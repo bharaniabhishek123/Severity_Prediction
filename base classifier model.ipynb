{
    "cells": [
        {
            "cell_type": "code",
            "execution_count": 6,
            "metadata": {},
            "outputs": [
                {
                    "name": "stdout",
                    "output_type": "stream",
                    "text": "Solving environment: done\n\n# All requested packages already installed.\n\n"
                }
            ],
            "source": "# Install a conda package in the current Jupyter kernel\nimport sys\n!conda install --yes --prefix {sys.prefix} wget"
        },
        {
            "cell_type": "markdown",
            "metadata": {},
            "source": "# Load the data from the file into a dataframe "
        },
        {
            "cell_type": "code",
            "execution_count": 17,
            "metadata": {},
            "outputs": [],
            "source": "# The code was removed by Watson Studio for sharing."
        },
        {
            "cell_type": "code",
            "execution_count": 18,
            "metadata": {},
            "outputs": [
                {
                    "data": {
                        "text/html": "<div>\n<style scoped>\n    .dataframe tbody tr th:only-of-type {\n        vertical-align: middle;\n    }\n\n    .dataframe tbody tr th {\n        vertical-align: top;\n    }\n\n    .dataframe thead th {\n        text-align: right;\n    }\n</style>\n<table border=\"1\" class=\"dataframe\">\n  <thead>\n    <tr style=\"text-align: right;\">\n      <th></th>\n      <th>sr_number</th>\n      <th>subject</th>\n      <th>description</th>\n      <th>ea_number</th>\n      <th>recordtype_name</th>\n      <th>sr_createddate</th>\n      <th>sr_closeddate</th>\n      <th>gss_entitlement_code</th>\n      <th>entitlement_desc</th>\n      <th>gss_initial_priority</th>\n      <th>severity</th>\n      <th>Customer_Level</th>\n    </tr>\n  </thead>\n  <tbody>\n    <tr>\n      <th>0</th>\n      <td>19082138602</td>\n      <td>When i try to add an async workflow object the...</td>\n      <td>When i try to add an async workflow object the...</td>\n      <td>112471845</td>\n      <td>GSS Technical Support</td>\n      <td>2019-02-13</td>\n      <td>2019-02-26</td>\n      <td>PLT</td>\n      <td>Production Support Agreement</td>\n      <td>2</td>\n      <td>2</td>\n      <td>PRODUCTION</td>\n    </tr>\n    <tr>\n      <th>1</th>\n      <td>19015342007</td>\n      <td>System Management</td>\n      <td>Issue : Unable to power on the VM  it shows fi...</td>\n      <td>114725031</td>\n      <td>GSS Technical Support</td>\n      <td>2019-07-19</td>\n      <td>2019-07-20</td>\n      <td>PLT</td>\n      <td>Production Support Agreement</td>\n      <td>3</td>\n      <td>2</td>\n      <td>PRODUCTION</td>\n    </tr>\n    <tr>\n      <th>2</th>\n      <td>19048599101</td>\n      <td>The PowerOnVM_Task submitted to VMware vCenter...</td>\n      <td>The PowerOnVM_Task submitted to VMware vCenter...</td>\n      <td>113821691</td>\n      <td>GSS Technical Support</td>\n      <td>2019-01-15</td>\n      <td>2019-01-15</td>\n      <td>PLT</td>\n      <td>Production Support Agreement</td>\n      <td>3</td>\n      <td>3</td>\n      <td>PRODUCTION</td>\n    </tr>\n    <tr>\n      <th>3</th>\n      <td>19074923902</td>\n      <td>Need to configure LogInsight Version (4.7.0-99...</td>\n      <td>Need to configure LogInsight Version (4.7.0-99...</td>\n      <td>113310139</td>\n      <td>GSS Technical Support</td>\n      <td>2019-02-06</td>\n      <td>2019-02-15</td>\n      <td>MCS</td>\n      <td>Mission Critical Support</td>\n      <td>4</td>\n      <td>4</td>\n      <td>PREMIER</td>\n    </tr>\n    <tr>\n      <th>4</th>\n      <td>19175312904</td>\n      <td>Storage</td>\n      <td>Unable to perform snapshot of VM   1.\u00a0\u00a0\u00a0\u00a0\u00a0\u00a0 Is...</td>\n      <td>115883764</td>\n      <td>GSS Technical Support</td>\n      <td>2019-04-24</td>\n      <td>2019-04-26</td>\n      <td>HCS</td>\n      <td>Healthcare Critical Support</td>\n      <td>1</td>\n      <td>2</td>\n      <td>PREMIER</td>\n    </tr>\n  </tbody>\n</table>\n</div>",
                        "text/plain": "     sr_number                                            subject  \\\n0  19082138602  When i try to add an async workflow object the...   \n1  19015342007                                  System Management   \n2  19048599101  The PowerOnVM_Task submitted to VMware vCenter...   \n3  19074923902  Need to configure LogInsight Version (4.7.0-99...   \n4  19175312904                                            Storage   \n\n                                         description  ea_number  \\\n0  When i try to add an async workflow object the...  112471845   \n1  Issue : Unable to power on the VM  it shows fi...  114725031   \n2  The PowerOnVM_Task submitted to VMware vCenter...  113821691   \n3  Need to configure LogInsight Version (4.7.0-99...  113310139   \n4  Unable to perform snapshot of VM   1.\u00a0\u00a0\u00a0\u00a0\u00a0\u00a0 Is...  115883764   \n\n         recordtype_name sr_createddate sr_closeddate gss_entitlement_code  \\\n0  GSS Technical Support     2019-02-13    2019-02-26                  PLT   \n1  GSS Technical Support     2019-07-19    2019-07-20                  PLT   \n2  GSS Technical Support     2019-01-15    2019-01-15                  PLT   \n3  GSS Technical Support     2019-02-06    2019-02-15                  MCS   \n4  GSS Technical Support     2019-04-24    2019-04-26                  HCS   \n\n               entitlement_desc  gss_initial_priority  severity Customer_Level  \n0  Production Support Agreement                     2         2     PRODUCTION  \n1  Production Support Agreement                     3         2     PRODUCTION  \n2  Production Support Agreement                     3         3     PRODUCTION  \n3      Mission Critical Support                     4         4        PREMIER  \n4   Healthcare Critical Support                     1         2        PREMIER  "
                    },
                    "execution_count": 18,
                    "metadata": {},
                    "output_type": "execute_result"
                }
            ],
            "source": "df_prem_customers.head()"
        },
        {
            "cell_type": "code",
            "execution_count": 19,
            "metadata": {},
            "outputs": [
                {
                    "data": {
                        "text/plain": "Index(['sr_number', 'subject', 'description', 'ea_number', 'recordtype_name',\n       'sr_createddate', 'sr_closeddate', 'gss_entitlement_code',\n       'entitlement_desc', 'gss_initial_priority', 'severity',\n       'Customer_Level'],\n      dtype='object')"
                    },
                    "execution_count": 19,
                    "metadata": {},
                    "output_type": "execute_result"
                }
            ],
            "source": "df_prem_customers.columns"
        },
        {
            "cell_type": "code",
            "execution_count": 20,
            "metadata": {},
            "outputs": [
                {
                    "data": {
                        "text/plain": "2    30702\n3    17829\n4     4969\n1     1812\n5     1404\nName: severity, dtype: int64"
                    },
                    "execution_count": 20,
                    "metadata": {},
                    "output_type": "execute_result"
                }
            ],
            "source": "df_prem_customers['severity'].value_counts()"
        },
        {
            "cell_type": "markdown",
            "metadata": {},
            "source": "# Filter out Sev 5 SRs"
        },
        {
            "cell_type": "code",
            "execution_count": 22,
            "metadata": {},
            "outputs": [],
            "source": "df_base=df_prem_customers.loc[df_prem_customers['severity']!=5,]"
        },
        {
            "cell_type": "code",
            "execution_count": 23,
            "metadata": {},
            "outputs": [],
            "source": "df_base['description'].replace('', np.nan, inplace=True)\ndf_base['description'].dropna(inplace=True)\ndf_base['description']=df_base['description'].apply(lambda x: str(x))"
        },
        {
            "cell_type": "code",
            "execution_count": 24,
            "metadata": {},
            "outputs": [],
            "source": "import xgboost as xgb\nfrom sklearn.metrics import accuracy_score\nfrom sklearn.feature_extraction.text import TfidfVectorizer\nimport nltk\nimport pandas as pd\nfrom sklearn.model_selection import cross_val_score\nfrom sklearn.metrics import confusion_matrix\nfrom sklearn import metrics\nfrom sklearn.model_selection import train_test_split\nimport numpy as np\nimport pandas as pd\nimport getpass\nimport re"
        },
        {
            "cell_type": "code",
            "execution_count": 25,
            "metadata": {},
            "outputs": [],
            "source": "X = df_base['description']\ny = df_base['severity']\nX_train, X_test, y_train, y_test = train_test_split(X, y, \n                                                    test_size=0.25,\n                                                    random_state = 0)"
        },
        {
            "cell_type": "code",
            "execution_count": 27,
            "metadata": {},
            "outputs": [
                {
                    "data": {
                        "text/plain": "True"
                    },
                    "execution_count": 27,
                    "metadata": {},
                    "output_type": "execute_result"
                }
            ],
            "source": "nltk.download('stopwords')"
        },
        {
            "cell_type": "code",
            "execution_count": 28,
            "metadata": {},
            "outputs": [],
            "source": "stopwords=nltk.corpus.stopwords.words('english')\ntf = TfidfVectorizer(ngram_range=(1,3), max_features=20000, stop_words=stopwords,min_df=5)\ntrain_feat = tf.fit_transform(X_train)\ntest_feat = tf.transform(X_test)"
        },
        {
            "cell_type": "code",
            "execution_count": 29,
            "metadata": {},
            "outputs": [
                {
                    "data": {
                        "text/plain": "XGBClassifier(base_score=0.5, booster='gbtree', colsample_bylevel=1,\n       colsample_bytree=1, gamma=0, learning_rate=0.1, max_delta_step=0,\n       max_depth=3, min_child_weight=1, missing=None, n_estimators=100,\n       n_jobs=1, nthread=None, objective='multi:softprob', random_state=42,\n       reg_alpha=0, reg_lambda=1, scale_pos_weight=1, seed=None,\n       silent=True, subsample=1)"
                    },
                    "execution_count": 29,
                    "metadata": {},
                    "output_type": "execute_result"
                }
            ],
            "source": "xgb_model = xgb.XGBClassifier(objective=\"multi:softprob\", random_state=42)\nxgb_model.fit(train_feat, y_train)"
        },
        {
            "cell_type": "code",
            "execution_count": 31,
            "metadata": {},
            "outputs": [],
            "source": "y_pred=xgb_model.predict(test_feat)"
        },
        {
            "cell_type": "code",
            "execution_count": 32,
            "metadata": {},
            "outputs": [
                {
                    "name": "stdout",
                    "output_type": "stream",
                    "text": "Training accuracy 0.5994118214251277\nTest accuracy 0.5868527625108475\n"
                }
            ],
            "source": "print('Training accuracy',accuracy_score(xgb_model.predict(train_feat),y_train))\nprint('Test accuracy',accuracy_score(xgb_model.predict(test_feat),y_test))"
        },
        {
            "cell_type": "code",
            "execution_count": 33,
            "metadata": {},
            "outputs": [],
            "source": "y_class=y.astype(str)"
        },
        {
            "cell_type": "code",
            "execution_count": 34,
            "metadata": {},
            "outputs": [
                {
                    "name": "stdout",
                    "output_type": "stream",
                    "text": "              precision    recall  f1-score   support\n\n           2       0.00      0.00      0.00       458\n           3       0.58      0.98      0.73      7669\n           4       0.70      0.12      0.20      4480\n           1       0.62      0.04      0.07      1221\n\n   micro avg       0.59      0.59      0.59     13828\n   macro avg       0.47      0.29      0.25     13828\nweighted avg       0.60      0.59      0.48     13828\n\n"
                }
            ],
            "source": "print(metrics.classification_report(y_test, y_pred, target_names= y_class.unique()))"
        },
        {
            "cell_type": "code",
            "execution_count": 35,
            "metadata": {},
            "outputs": [],
            "source": "from watson_machine_learning_client import WatsonMachineLearningAPIClient"
        },
        {
            "cell_type": "code",
            "execution_count": null,
            "metadata": {},
            "outputs": [],
            "source": ""
        }
    ],
    "metadata": {
        "kernelspec": {
            "display_name": "Python 3.6",
            "language": "python",
            "name": "python3"
        },
        "language_info": {
            "codemirror_mode": {
                "name": "ipython",
                "version": 3
            },
            "file_extension": ".py",
            "mimetype": "text/x-python",
            "name": "python",
            "nbconvert_exporter": "python",
            "pygments_lexer": "ipython3",
            "version": "3.6.8"
        }
    },
    "nbformat": 4,
    "nbformat_minor": 1
}